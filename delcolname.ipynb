{
 "cells": [
  {
   "cell_type": "markdown",
   "metadata": {
    "id": "UJiOziD-2jjv"
   },
   "source": [
    "# Delete names from columns in Python"
   ]
  },
  {
   "cell_type": "markdown",
   "metadata": {
    "id": "EsHRBeZW22zI"
   },
   "source": [
    "While analyzing large datasets, we get common repetitive words in multiple columns. The names become irrelevant to the analysis when comparing, therefore, we try to keep the uniqueness of the column name."
   ]
  },
  {
   "cell_type": "markdown",
   "metadata": {
    "id": "moN-QjPcJtC4"
   },
   "source": [
    "There are multiple ways to approach any problem, this is no different. One of the most common ways people go about this issue is replacing the column name discreetly one by one. Let's say we have a dataset on mobile phones, and the dataset has the first column as Manufacture_name. We can easily replace that with Name or Company. However, if there are multiple columns with Manufacture in it, this is how to go about it."
   ]
  },
  {
   "cell_type": "markdown",
   "metadata": {
    "id": "-iMcK2ZnJyjL"
   },
   "source": [
    "1. Get essential libraries"
   ]
  },
  {
   "cell_type": "code",
   "execution_count": null,
   "metadata": {
    "id": "G4mtw7ni2Awk"
   },
   "outputs": [],
   "source": [
    "import pandas as pd"
   ]
  },
  {
   "cell_type": "markdown",
   "metadata": {
    "id": "2eqNkWkrUlrp"
   },
   "source": [
    "For using google collab, there is a specific code we need to run, where we have "
   ]
  },
  {
   "cell_type": "code",
   "execution_count": null,
   "metadata": {
    "id": "tlh-hyvATQdk"
   },
   "outputs": [],
   "source": [
    "from google.colab import files\n",
    "uploaded = files.upload()"
   ]
  },
  {
   "cell_type": "code",
   "execution_count": null,
   "metadata": {
    "id": "8JMHRcuNSC_O"
   },
   "outputs": [],
   "source": [
    "data = pd.read_csv('Mobile2019_Q1.csv')"
   ]
  },
  {
   "cell_type": "markdown",
   "metadata": {
    "id": "TqhbvkvWJ7U3"
   },
   "source": [
    "2. Import the dataset; Here we are assuming a CSV file"
   ]
  },
  {
   "cell_type": "code",
   "execution_count": null,
   "metadata": {
    "id": "5gI0rP6O2J8V"
   },
   "outputs": [],
   "source": [
    "data = pd.read_csv('filepath\\\\filename')\n",
    "#filename should also contain type of file like .csv or .txt\n",
    "\n",
    "#For large files use\n",
    " #data = pd.read_csv('filepath\\\\filename', low_memory = False)"
   ]
  },
  {
   "cell_type": "markdown",
   "metadata": {
    "id": "5_lRvLVwKGHU"
   },
   "source": [
    "3. (Optional) Check the dataset and column names"
   ]
  },
  {
   "cell_type": "code",
   "execution_count": null,
   "metadata": {
    "id": "dhJvVjgJ2KdQ"
   },
   "outputs": [],
   "source": [
    "data.head()"
   ]
  },
  {
   "cell_type": "markdown",
   "metadata": {
    "id": "nzP0IyTFKLOK"
   },
   "source": [
    "4. Creating a list of custom words we want to remove"
   ]
  },
  {
   "cell_type": "markdown",
   "metadata": {
    "id": "NZ697X4FKOcp"
   },
   "source": [
    "Instead of running the same program multiple times, to remove different words, we create a list of words which can we used to run only once. For example, our data set has two common words say Manufacture and Supplier with column names Manufacture_name, Manufacture_id, Manufacture_Location, Supplier_count, Supplier_Amount, and so on."
   ]
  },
  {
   "cell_type": "code",
   "execution_count": null,
   "metadata": {
    "id": "vd7bWgzL2LHy"
   },
   "outputs": [],
   "source": [
    "words = ['Manufacture_' , 'Supplier_'] #Python is case sensitive\n",
    "#Each words needs to exactly like the column name"
   ]
  },
  {
   "cell_type": "markdown",
   "metadata": {
    "id": "iO8HQZwjKZLl"
   },
   "source": [
    "5. Creating a new list for modified column names"
   ]
  },
  {
   "cell_type": "code",
   "execution_count": null,
   "metadata": {
    "id": "9LWjPX2YKWk_"
   },
   "outputs": [],
   "source": [
    "c = list()\n",
    "c = data.columns.tolist()\n",
    "for i in range(len(c)): #Loop every column\n",
    "    for word in words: #Loop for every word\n",
    "        c[i] = c[i].replace(word,'')"
   ]
  },
  {
   "cell_type": "markdown",
   "metadata": {
    "id": "fADTnt0HPaEk"
   },
   "source": [
    "6. Modifying the existing column names with new names"
   ]
  },
  {
   "cell_type": "code",
   "execution_count": null,
   "metadata": {
    "id": "tDkIE5TjPeTe"
   },
   "outputs": [],
   "source": [
    "data.columns = c"
   ]
  },
  {
   "cell_type": "markdown",
   "metadata": {
    "id": "eQCxHNtEPgPW"
   },
   "source": [
    "7. (Optional) Check the dataset again for updated column names"
   ]
  },
  {
   "cell_type": "code",
   "execution_count": null,
   "metadata": {
    "id": "TZfu_SIAPiTP"
   },
   "outputs": [],
   "source": [
    "data.head()"
   ]
  },
  {
   "cell_type": "markdown",
   "metadata": {
    "id": "DcYrQLZXPkY-"
   },
   "source": [
    "8. Export dataset for future use; Assuming CSV file"
   ]
  },
  {
   "cell_type": "code",
   "execution_count": null,
   "metadata": {
    "id": "WhdoEU6JPmbg"
   },
   "outputs": [],
   "source": [
    "#data.to_csv('filepath\\\\customname.csv',index=False)"
   ]
  },
  {
   "cell_type": "markdown",
   "metadata": {
    "id": "eVGFX1_NH72D"
   },
   "source": [
    "SImilar to import, for google collab some additional code for export"
   ]
  },
  {
   "cell_type": "code",
   "execution_count": null,
   "metadata": {
    "id": "KfE5j-DmHZw_"
   },
   "outputs": [],
   "source": [
    "from google.colab import files\n",
    "data.to_csv('Mobile2019_Q1_Namechanged.csv', index=False) \n",
    "#files.download('Mobile2019_Q1_Namechanged.csv')"
   ]
  }
 ],
 "metadata": {
  "colab": {
   "name": "delcolname.ipynb",
   "provenance": []
  },
  "kernelspec": {
   "display_name": "Python 3",
   "language": "python",
   "name": "python3"
  },
  "language_info": {
   "codemirror_mode": {
    "name": "ipython",
    "version": 3
   },
   "file_extension": ".py",
   "mimetype": "text/x-python",
   "name": "python",
   "nbconvert_exporter": "python",
   "pygments_lexer": "ipython3",
   "version": "3.7.1"
  }
 },
 "nbformat": 4,
 "nbformat_minor": 1
}
